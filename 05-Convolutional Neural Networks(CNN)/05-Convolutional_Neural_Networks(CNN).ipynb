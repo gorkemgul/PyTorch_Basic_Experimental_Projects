{
 "cells": [
  {
   "cell_type": "markdown",
   "id": "2de82770",
   "metadata": {},
   "source": [
    "# Convolutional Neural Networks (CNN) with Pytorch\n",
    "\n",
    "1. [Libraries](#1)\n",
    "2. [Data Preparation](#2)\n",
    "3. [Creating Model](#3)\n",
    "4. [Model Training and Prediction](#4)\n",
    "5. [Visualization](#5)"
   ]
  },
  {
   "cell_type": "markdown",
   "id": "6130d036",
   "metadata": {},
   "source": [
    "<a id = \"1\"></a>\n",
    "## Libraries"
   ]
  },
  {
   "cell_type": "code",
   "execution_count": 1,
   "id": "343cbf84",
   "metadata": {},
   "outputs": [],
   "source": [
    "import numpy as np \n",
    "import pandas as pd \n",
    "import matplotlib.pyplot as plt \n",
    "import torch \n",
    "import torch.nn as nn \n",
    "from torch.autograd import Variable\n",
    "from torch.utils.data import DataLoader, TensorDataset\n",
    "from sklearn.model_selection import train_test_split"
   ]
  },
  {
   "cell_type": "markdown",
   "id": "93f22166",
   "metadata": {},
   "source": [
    "<a id = \"2\"></a>\n",
    "## Data Preparation"
   ]
  },
  {
   "cell_type": "code",
   "execution_count": 2,
   "id": "433938b4",
   "metadata": {},
   "outputs": [
    {
     "data": {
      "image/png": "[encoded data removed]",
      "text/plain": [
       "<Figure size 432x288 with 1 Axes>"
      ]
     },
     "metadata": {
      "needs_background": "light"
     },
     "output_type": "display_data"
    }
   ],
   "source": [
    "#Data Preparation\n",
    "train = pd.read_csv(\"train.csv\", dtype = np.float32)\n",
    "\n",
    "targets_numpy = train[\"label\"].values\n",
    "features_numpy = train.drop(labels = \"label\", axis = 1).values / 255\n",
    "\n",
    "#%80 train, %20 test\n",
    "features_train, features_test, targets_train, targets_test = train_test_split(features_numpy, targets_numpy, test_size = 0.2)\n",
    "\n",
    "#Arrays2Tensors\n",
    "featuresTrain = torch.from_numpy(features_train)\n",
    "targetsTrain = torch.from_numpy(targets_train).type(torch.LongTensor)\n",
    "\n",
    "featuresTest = torch.from_numpy(features_test)\n",
    "targetsTest = torch.from_numpy(targets_test).type(torch.LongTensor)\n",
    "\n",
    "#batch_size, epochs, iterations\n",
    "batch_size = 100\n",
    "n_iters = 3000\n",
    "num_epochs = int(n_iters / (len(features_train) / batch_size))\n",
    "\n",
    "# train, test sets\n",
    "train = TensorDataset(featuresTrain, targetsTrain)\n",
    "test = TensorDataset(featuresTest, targetsTest)\n",
    "\n",
    "#\n",
    "train_loader = DataLoader(train, batch_size = batch_size, shuffle = False)\n",
    "test_loader = DataLoader(test, batch_size = batch_size, shuffle = False) \n",
    "\n",
    "#Visualization\n",
    "plt.imshow(features_numpy[6].reshape(28,28))\n",
    "plt.title(str(targets_numpy[6]))\n",
    "plt.axis(\"off\")\n",
    "plt.savefig(\"graph.png\")"
   ]
  },
  {
   "cell_type": "markdown",
   "id": "c836f3b5",
   "metadata": {},
   "source": [
    "<a id = \"3\"></a>\n",
    "## Creating Model"
   ]
  },
  {
   "cell_type": "code",
   "execution_count": 3,
   "id": "5a611713",
   "metadata": {},
   "outputs": [],
   "source": [
    "#Creating Class\n",
    "class CNNModel(nn.Module):\n",
    "    def __init__(self):\n",
    "        super(CNNModel, self).__init__()\n",
    "        \n",
    "       \n",
    "        self.conv1 = nn.Conv2d(in_channels = 1, out_channels = 16, kernel_size = 5, stride = 1, padding = 0)\n",
    "        self.relu1 = nn.ReLU()\n",
    "        self.max1 = nn.MaxPool2d(kernel_size = 2)\n",
    "        \n",
    "        self.conv2 = nn.Conv2d(in_channels = 16, out_channels = 32, kernel_size = 5, stride = 1, padding = 0)\n",
    "        self.relu2 = nn.ReLU()\n",
    "        self.max2 = nn.MaxPool2d(kernel_size = 2)\n",
    "        \n",
    "        self.fc1 = nn.Linear(32*4*4, 10) \n",
    "        \n",
    "    def forward(self, x):\n",
    "        \n",
    "        out = self.conv1(x)\n",
    "        out = self.relu1(out)\n",
    "        out = self.max1(out)\n",
    "        \n",
    "        out = self.conv2(out)\n",
    "        out = self.relu2(out)\n",
    "        out = self.max2(out)\n",
    "        \n",
    "        out = out.view(out.size(0), -1) \n",
    "        \n",
    "        out = self.fc1(out)\n",
    "        return out\n",
    "    \n",
    "#Creating Model \n",
    "model = CNNModel()\n",
    "\n",
    "#Error\n",
    "error = nn.CrossEntropyLoss()\n",
    "\n",
    "#Optimizer\n",
    "learning_rate = 0.1\n",
    "optimizer = torch.optim.SGD(model.parameters(), lr = learning_rate)"
   ]
  },
  {
   "cell_type": "markdown",
   "id": "8b839c03",
   "metadata": {},
   "source": [
    "<a id = \"4\"></a>\n",
    "## Model Tranining and Prediction"
   ]
  },
  {
   "cell_type": "code",
   "execution_count": 4,
   "id": "f4070e01",
   "metadata": {},
   "outputs": [
    {
     "name": "stdout",
     "output_type": "stream",
     "text": [
      "Iteration: 500, Loss: 0.09753946214914322, Accuracy: 96.67857360839844\n",
      "Iteration: 1000, Loss: 0.026712050661444664, Accuracy: 97.69047546386719\n",
      "Iteration: 1500, Loss: 0.10803212225437164, Accuracy: 98.01190185546875\n",
      "Iteration: 2000, Loss: 0.0352974571287632, Accuracy: 98.19047546386719\n",
      "Iteration: 2500, Loss: 0.0209116879850626, Accuracy: 98.51190185546875\n"
     ]
    }
   ],
   "source": [
    "#Model Traninig \n",
    "\n",
    "count = 0\n",
    "loss_list = []\n",
    "iteration_list = []\n",
    "accuracy_list = []\n",
    "\n",
    "for iteration in range(num_epochs):\n",
    "    for i, (images, labels) in enumerate(train_loader):\n",
    "        \n",
    "        train = Variable(images.view(100, 1, 28, 28))\n",
    "        labels = Variable(labels)\n",
    "        \n",
    "        optimizer.zero_grad()\n",
    "        \n",
    "        outputs = model(train)\n",
    "        \n",
    "        loss = error(outputs, labels)\n",
    "        \n",
    "        loss.backward()\n",
    "        \n",
    "        optimizer.step()\n",
    "        \n",
    "        count += 1\n",
    "        \n",
    "        if count % 50 == 0: \n",
    "            \n",
    "            correct = 0\n",
    "            total = 0\n",
    "            \n",
    "            #model prediction\n",
    "            for images, labels in test_loader:\n",
    "                \n",
    "                test = Variable(images.view(100, 1, 28, 28))\n",
    "                \n",
    "                outputs = model(test)\n",
    "                \n",
    "                predicted = torch.max(outputs.data, 1)[1]\n",
    "                \n",
    "                total += len(labels)\n",
    "                \n",
    "                correct += (predicted == labels).sum()\n",
    "                \n",
    "            accuracy = 100 * correct / float(total)\n",
    "            \n",
    "            loss_list.append(loss.data)\n",
    "            iteration_list.append(count)\n",
    "            accuracy_list.append(accuracy)\n",
    "            \n",
    "        if count % 500 == 0: \n",
    "            print(\"Iteration: {}, Loss: {}, Accuracy: {}\".format(count, loss.data, accuracy))"
   ]
  },
  {
   "cell_type": "markdown",
   "id": "f3db98ee",
   "metadata": {},
   "source": [
    "<a id = \"5\"></a>\n",
    "## Visualization"
   ]
  },
  {
   "cell_type": "code",
   "execution_count": 5,
   "id": "2f1adac5",
   "metadata": {},
   "outputs": [
    {
     "data": {
      "image/png": "[encoded data removed]",
      "text/plain": [
       "<Figure size 432x288 with 1 Axes>"
      ]
     },
     "metadata": {
      "needs_background": "light"
     },
     "output_type": "display_data"
    },
    {
     "data": {
      "image/png": "[encoded data removed]",
      "text/plain": [
       "<Figure size 432x288 with 1 Axes>"
      ]
     },
     "metadata": {
      "needs_background": "light"
     },
     "output_type": "display_data"
    }
   ],
   "source": [
    "#Loss vs Number of Iteration\n",
    "plt.plot(iteration_list, loss_list, color = \"orange\")\n",
    "plt.title(\"Loss vs Number of Iteration\")\n",
    "plt.xlabel(\"Number of Iteration\")\n",
    "plt.ylabel(\"Loss\")\n",
    "plt.show()\n",
    "\n",
    "#Accuracy vs Number of Iteration\n",
    "plt.plot(iteration_list, accuracy_list, color = \"red\")\n",
    "plt.title(\"Accuracy vs Number of Iteration\")\n",
    "plt.xlabel(\"Number of Iteration\")\n",
    "plt.ylabel(\"Accuracy\")\n",
    "plt.show()"
   ]
  }
 ],
 "metadata": {
  "kernelspec": {
   "display_name": "Python 3 (ipykernel)",
   "language": "python",
   "name": "python3"
  },
  "language_info": {
   "codemirror_mode": {
    "name": "ipython",
    "version": 3
   },
   "file_extension": ".py",
   "mimetype": "text/x-python",
   "name": "python",
   "nbconvert_exporter": "python",
   "pygments_lexer": "ipython3",
   "version": "3.9.12"
  }
 },
 "nbformat": 4,
 "nbformat_minor": 5
}
