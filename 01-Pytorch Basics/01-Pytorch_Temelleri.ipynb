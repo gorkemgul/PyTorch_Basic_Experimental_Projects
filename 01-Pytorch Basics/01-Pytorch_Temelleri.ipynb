{
 "cells": [
  {
   "cell_type": "markdown",
   "id": "09874941",
   "metadata": {},
   "source": [
    "# Pytorch \n",
    "\n",
    "1. [Pytorch Basics](#1)\n",
    "2. [Basic Math Operations](#2)"
   ]
  },
  {
   "cell_type": "markdown",
   "id": "c73945c3",
   "metadata": {},
   "source": [
    "<a id = \"1\"></a>\n",
    "## Pytorch Basics"
   ]
  },
  {
   "cell_type": "code",
   "execution_count": 1,
   "id": "86f98eaf",
   "metadata": {},
   "outputs": [],
   "source": [
    "import numpy as np\n",
    "import torch"
   ]
  },
  {
   "cell_type": "code",
   "execution_count": 3,
   "id": "07be8d8b",
   "metadata": {},
   "outputs": [
    {
     "name": "stdout",
     "output_type": "stream",
     "text": [
      "Array type: <class 'numpy.ndarray'>\n",
      "Array type: (2, 3)\n",
      "This is the array: [[1 2 3]\n",
      " [4 5 6]]\n"
     ]
    }
   ],
   "source": [
    "first_list = [[1,2,3], [4,5,6]]\n",
    "first_array = np.array(first_list) \n",
    "print(\"Array type: {}\".format(type(first_array)))\n",
    "print(\"Array type: {}\".format(np.shape(first_array)))\n",
    "print(\"This is the array: {}\".format(first_array))"
   ]
  },
  {
   "cell_type": "code",
   "execution_count": 4,
   "id": "187e911c",
   "metadata": {},
   "outputs": [
    {
     "name": "stdout",
     "output_type": "stream",
     "text": [
      "Array type: <built-in method type of Tensor object at 0x000001A9310E0720>\n",
      "Array shape: torch.Size([2, 3])\n",
      "This is the tensor: tensor([[1., 2., 3.],\n",
      "        [4., 5., 6.]])\n"
     ]
    }
   ],
   "source": [
    "first_tensor = torch.Tensor(first_list)\n",
    "print(\"Array type: {}\".format(first_tensor.type))\n",
    "print(\"Array shape: {}\".format(first_tensor.shape))\n",
    "print(\"This is the tensor: {}\".format(first_tensor))"
   ]
  },
  {
   "cell_type": "code",
   "execution_count": 12,
   "id": "035aa4d2",
   "metadata": {},
   "outputs": [
    {
     "name": "stdout",
     "output_type": "stream",
     "text": [
      "a: [[1. 1. 1.]\n",
      " [1. 1. 1.]]\n",
      "b: tensor([[1., 1., 1.],\n",
      "        [1., 1., 1.]])\n"
     ]
    }
   ],
   "source": [
    "# numpy ones \n",
    "a = np.ones((2,3))\n",
    "print(\"a:\",a)\n",
    "# torch ones\n",
    "b = torch.ones((2,3))\n",
    "print(\"b:\",b)\n"
   ]
  },
  {
   "cell_type": "code",
   "execution_count": 14,
   "id": "153f43e4",
   "metadata": {},
   "outputs": [
    {
     "name": "stdout",
     "output_type": "stream",
     "text": [
      "c: [[0. 0.]\n",
      " [0. 0.]]\n",
      "d: tensor([[0., 0.],\n",
      "        [0., 0.]])\n"
     ]
    }
   ],
   "source": [
    "# numpy zeros\n",
    "c = np.zeros((2,2))\n",
    "print(\"c:\", c)\n",
    "# torch zeros\n",
    "d = torch.zeros((2,2))\n",
    "print(\"d:\", d)"
   ]
  },
  {
   "cell_type": "code",
   "execution_count": 15,
   "id": "133e56c3",
   "metadata": {},
   "outputs": [
    {
     "name": "stdout",
     "output_type": "stream",
     "text": [
      "Numpy: [[0.52469322 0.05462182 0.71000069]\n",
      " [0.27453357 0.92613739 0.33390924]]\n",
      "Torch: tensor([[0.6482, 0.6075, 0.4100],\n",
      "        [0.1995, 0.3647, 0.3322]])\n"
     ]
    }
   ],
   "source": [
    "# numpy random \n",
    "print(\"Numpy: {}\".format(np.random.rand(2,3)))\n",
    "print(\"Torch: {}\".format(torch.rand(2,3)))"
   ]
  },
  {
   "cell_type": "code",
   "execution_count": 19,
   "id": "572cc3c6",
   "metadata": {},
   "outputs": [
    {
     "name": "stdout",
     "output_type": "stream",
     "text": [
      "Array: [[0.16063571 0.89746205]\n",
      " [0.67314278 0.99674099]]\n",
      "Array: <class 'numpy.ndarray'>\n",
      "Numpy2Tensor: tensor([[0.1606, 0.8975],\n",
      "        [0.6731, 0.9967]], dtype=torch.float64)\n",
      "Numpy2Tensor: tensor([[0.1606, 0.8975],\n",
      "        [0.6731, 0.9967]], dtype=torch.float64)\n",
      "Back2Numpy: [[0.16063571 0.89746205]\n",
      " [0.67314278 0.99674099]]\n",
      "Back2Numpy: <class 'numpy.ndarray'>\n"
     ]
    }
   ],
   "source": [
    "# creating an array\n",
    "array = np.random.rand(2,2)\n",
    "print(\"Array: {}\".format(array))\n",
    "print(\"Array: {}\".format(type(array)))\n",
    "\n",
    "# numpy to tensor\n",
    "numpy2Tensor = torch.from_numpy(array)\n",
    "print(\"Numpy2Tensor: {}\".format(numpy2Tensor))\n",
    "print(\"Numpy2Tensor: {}\".format(numpy2Tensor))\n",
    "\n",
    "# tensor to numpy\n",
    "tensor2Numpy = numpy2Tensor.numpy()\n",
    "print(\"Back2Numpy: {}\".format(tensor2Numpy))\n",
    "print(\"Back2Numpy: {}\".format(type(tensor2Numpy)))"
   ]
  },
  {
   "cell_type": "markdown",
   "id": "c970cba5",
   "metadata": {},
   "source": [
    "<a id = \"2\"></a>\n",
    "## Basic Math Operations"
   ]
  },
  {
   "cell_type": "code",
   "execution_count": 20,
   "id": "ac5e5e7e",
   "metadata": {},
   "outputs": [
    {
     "name": "stdout",
     "output_type": "stream",
     "text": [
      "\n",
      " tensor([[1., 1., 1.],\n",
      "        [1., 1., 1.],\n",
      "        [1., 1., 1.]])\n",
      "torch.Size([9])tensor([1., 1., 1., 1., 1., 1., 1., 1., 1.])\n",
      "\n",
      "Addition: tensor([[2., 2., 2.],\n",
      "        [2., 2., 2.],\n",
      "        [2., 2., 2.]])\n",
      "\n",
      "Subtraction: tensor([[0., 0., 0.],\n",
      "        [0., 0., 0.],\n",
      "        [0., 0., 0.]])\n",
      "\n",
      "Element wise multiplication: tensor([[1., 1., 1.],\n",
      "        [1., 1., 1.],\n",
      "        [1., 1., 1.]])\n",
      "\n",
      "Element wise division: tensor([[1., 1., 1.],\n",
      "        [1., 1., 1.],\n",
      "        [1., 1., 1.]])\n",
      "\n",
      "Mean: 3.0\n",
      "std: 1.5811388492584229\n"
     ]
    }
   ],
   "source": [
    "# create tensor \n",
    "tensor = torch.ones(3,3)\n",
    "print(\"\\n\",tensor)\n",
    "\n",
    "# Resize\n",
    "print(\"{}{}\\n\".format(tensor.view(9).shape,tensor.view(9)))\n",
    "\n",
    "# Addition\n",
    "print(\"Addition: {}\\n\".format(torch.add(tensor,tensor)))\n",
    "\n",
    "# Subtraction\n",
    "print(\"Subtraction: {}\\n\".format(tensor.sub(tensor)))\n",
    "\n",
    "# Element wise multiplication\n",
    "print(\"Element wise multiplication: {}\\n\".format(torch.mul(tensor,tensor)))\n",
    "\n",
    "# Element wise division\n",
    "print(\"Element wise division: {}\\n\".format(torch.div(tensor,tensor)))\n",
    "\n",
    "# Mean\n",
    "tensor = torch.Tensor([1,2,3,4,5])\n",
    "print(\"Mean: {}\".format(tensor.mean()))\n",
    "\n",
    "# Standart deviation (std)\n",
    "print(\"std: {}\".format(tensor.std()))"
   ]
  },
  {
   "cell_type": "code",
   "execution_count": 21,
   "id": "ced35e3d",
   "metadata": {},
   "outputs": [
    {
     "data": {
      "text/plain": [
       "tensor([1., 1., 1.], requires_grad=True)"
      ]
     },
     "execution_count": 21,
     "metadata": {},
     "output_type": "execute_result"
    }
   ],
   "source": [
    "# Variables \n",
    "\n",
    "from torch.autograd import Variable\n",
    "\n",
    "var = Variable(torch.ones(3), requires_grad = True)\n",
    "var"
   ]
  },
  {
   "cell_type": "code",
   "execution_count": 23,
   "id": "0784fa08",
   "metadata": {},
   "outputs": [
    {
     "name": "stdout",
     "output_type": "stream",
     "text": [
      "y =  tensor([ 4., 16.], grad_fn=<PowBackward0>)\n",
      "o = tensor(10., grad_fn=<MulBackward0>)\n",
      "gradients: tensor([2., 4.])\n"
     ]
    }
   ],
   "source": [
    "array = [2,4]\n",
    "tensor = torch.Tensor(array)\n",
    "x = Variable(tensor, requires_grad = True)\n",
    "y = x**2\n",
    "print(\"y = \", y)\n",
    "\n",
    "o = (1/2)*sum(y)\n",
    "print(\"o =\", o)\n",
    "\n",
    "o.backward()\n",
    "\n",
    "print(\"gradients: {}\".format(x.grad))"
   ]
  }
 ],
 "metadata": {
  "kernelspec": {
   "display_name": "Python 3 (ipykernel)",
   "language": "python",
   "name": "python3"
  },
  "language_info": {
   "codemirror_mode": {
    "name": "ipython",
    "version": 3
   },
   "file_extension": ".py",
   "mimetype": "text/x-python",
   "name": "python",
   "nbconvert_exporter": "python",
   "pygments_lexer": "ipython3",
   "version": "3.9.12"
  }
 },
 "nbformat": 4,
 "nbformat_minor": 5
}
