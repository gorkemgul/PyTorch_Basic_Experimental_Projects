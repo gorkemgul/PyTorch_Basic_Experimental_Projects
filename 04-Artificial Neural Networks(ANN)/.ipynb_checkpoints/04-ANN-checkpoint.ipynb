{
 "cells": [
  {
   "cell_type": "markdown",
   "id": "6bbb1b13",
   "metadata": {},
   "source": [
    "# Artificial Neural Networks (ANN) with Pytorch\n",
    "\n",
    "1. [Libraries](#1)\n",
    "2. [Data Preparation](#2)\n",
    "3. [Creating Model](#3)\n",
    "4. [Model Training and Prediction](#4)\n",
    "5. [Visualization](#5)"
   ]
  },
  {
   "cell_type": "markdown",
   "id": "3af20ac0",
   "metadata": {},
   "source": [
    "<a id = \"1\"></a>\n",
    "## Libraries"
   ]
  },
  {
   "cell_type": "code",
   "execution_count": 1,
   "id": "7244fd66",
   "metadata": {},
   "outputs": [],
   "source": [
    "import numpy as np\n",
    "import matplotlib.pyplot as plt \n",
    "import pandas as pd\n",
    "import torch\n",
    "import torch.nn as nn \n",
    "from torch.autograd import Variable\n",
    "from torch.utils.data import DataLoader\n",
    "from sklearn.model_selection import train_test_split"
   ]
  },
  {
   "cell_type": "markdown",
   "id": "a0824269",
   "metadata": {},
   "source": [
    "<a id = \"2\"></a>\n",
    "## Data Preparation"
   ]
  },
  {
   "cell_type": "code",
   "execution_count": 2,
   "id": "f4c26e72",
   "metadata": {},
   "outputs": [
    {
     "data": {
      "image/png": "[encoded data removed]",
      "text/plain": [
       "<Figure size 432x288 with 1 Axes>"
      ]
     },
     "metadata": {
      "needs_background": "light"
     },
     "output_type": "display_data"
    }
   ],
   "source": [
    "#Data preparation\n",
    "train = pd.read_csv(\"train.csv\", dtype = np.float32)\n",
    "\n",
    "targets_numpy = train.label.values\n",
    "features_numpy = train.drop(labels = \"label\", axis = 1).values / 255\n",
    "\n",
    "#train -> %80, test -> %20\n",
    "features_train, features_test, targets_train, targets_test = train_test_split(features_numpy, targets_numpy, test_size = 0.2)\n",
    "\n",
    "#Turning our train datas into Tensors\n",
    "featuresTrain = torch.from_numpy(features_train)\n",
    "targetsTrain = torch.from_numpy(targets_train).type(torch.LongTensor)\n",
    "\n",
    "#Turning our test datas into Tensors\n",
    "featuresTest = torch.from_numpy(features_test)\n",
    "targetsTest = torch.from_numpy(targets_test).type(torch.LongTensor)\n",
    "\n",
    "#batch size, epochs and iteration\n",
    "batch_size = 100\n",
    "n_iters = 10000\n",
    "num_epochs = n_iters / (len(features_train) / batch_size)\n",
    "num_epochs = int(num_epochs)\n",
    "\n",
    "#train, test sets\n",
    "train = torch.utils.data.TensorDataset(featuresTrain, targetsTrain)\n",
    "test = torch.utils.data.TensorDataset(featuresTest, targetsTest)\n",
    "\n",
    "#train loader, test loader\n",
    "train_loader = DataLoader(train, batch_size = batch_size, shuffle = False)\n",
    "test_loader = DataLoader(train, batch_size = batch_size, shuffle = False)\n",
    "\n",
    "plt.imshow(features_numpy[9].reshape(28,28))\n",
    "plt.axis(\"off\")\n",
    "plt.title(str(targets_numpy[9]))\n",
    "plt.savefig(\"graph.png\")\n",
    "plt.show()"
   ]
  },
  {
   "cell_type": "markdown",
   "id": "f8294a4f",
   "metadata": {},
   "source": [
    "<a id = \"3\"></a>\n",
    "## Creating Model"
   ]
  },
  {
   "cell_type": "code",
   "execution_count": 3,
   "id": "62be77df",
   "metadata": {},
   "outputs": [],
   "source": [
    "#Creating Class\n",
    "class ANNModel(nn.Module):\n",
    "    def __init__(self, input_dim, hidden_dim, output_dim):\n",
    "        super(ANNModel, self).__init__()\n",
    "        \n",
    "        self.fc1 = nn.Linear(input_dim, hidden_dim)\n",
    "        self.relu1 = nn.ReLU()\n",
    "        \n",
    "        self.fc2 = nn.Linear(hidden_dim, hidden_dim)\n",
    "        self.tanh2 = nn.Tanh()\n",
    "        \n",
    "        self.fc3 = nn.Linear(hidden_dim, hidden_dim)\n",
    "        self.elu3 = nn.ELU()\n",
    "        \n",
    "        self.fc4 = nn.Linear(hidden_dim, output_dim)\n",
    "    \n",
    "    def forward(self, x):\n",
    "        \n",
    "        out = self.fc1(x)\n",
    "        out = self.relu1(out)\n",
    "        \n",
    "        out = self.fc2(out)\n",
    "        out = self.tanh2(out)\n",
    "        \n",
    "        out = self.fc3(out)\n",
    "        out = self.elu3(out)\n",
    "        \n",
    "        out = self.fc4(out)     \n",
    "        return out \n",
    "\n",
    "#Instantiate ANN\n",
    "input_dim = 28*28\n",
    "hidden_dim = 150\n",
    "output_dim = 10\n",
    "\n",
    "#Creating model\n",
    "model = ANNModel(input_dim, hidden_dim, output_dim)\n",
    "\n",
    "#Error \n",
    "error = nn.CrossEntropyLoss()\n",
    "\n",
    "#Optimizer\n",
    "learning_rate = 0.02\n",
    "optimizer = torch.optim.SGD(model.parameters(), lr = learning_rate)"
   ]
  },
  {
   "cell_type": "markdown",
   "id": "adfb2217",
   "metadata": {},
   "source": [
    "<a id = \"4\"></a>\n",
    "## Model Training and Prediction"
   ]
  },
  {
   "cell_type": "code",
   "execution_count": 4,
   "id": "04bfee41",
   "metadata": {},
   "outputs": [
    {
     "name": "stdout",
     "output_type": "stream",
     "text": [
      "Iteration: 500, Loss: 0.8096850514411926, Accuracy: 79.39881134033203\n",
      "Iteration: 1000, Loss: 0.3468701243400574, Accuracy: 88.35416412353516\n",
      "Iteration: 1500, Loss: 0.3578844368457794, Accuracy: 90.20833587646484\n",
      "Iteration: 2000, Loss: 0.36284172534942627, Accuracy: 91.52678680419922\n",
      "Iteration: 2500, Loss: 0.2803420126438141, Accuracy: 92.5327377319336\n",
      "Iteration: 3000, Loss: 0.14772866666316986, Accuracy: 93.42262268066406\n",
      "Iteration: 3500, Loss: 0.3584849536418915, Accuracy: 94.17857360839844\n",
      "Iteration: 4000, Loss: 0.28753089904785156, Accuracy: 94.79463958740234\n",
      "Iteration: 4500, Loss: 0.11225427687168121, Accuracy: 95.25\n",
      "Iteration: 5000, Loss: 0.11234879493713379, Accuracy: 95.66368865966797\n",
      "Iteration: 5500, Loss: 0.1366468369960785, Accuracy: 96.12202453613281\n",
      "Iteration: 6000, Loss: 0.08411777764558792, Accuracy: 96.55952453613281\n",
      "Iteration: 6500, Loss: 0.11666490882635117, Accuracy: 96.79762268066406\n",
      "Iteration: 7000, Loss: 0.09021546691656113, Accuracy: 97.11012268066406\n",
      "Iteration: 7500, Loss: 0.154680073261261, Accuracy: 97.32440185546875\n",
      "Iteration: 8000, Loss: 0.02167952060699463, Accuracy: 97.47916412353516\n",
      "Iteration: 8500, Loss: 0.055610332638025284, Accuracy: 97.57440185546875\n",
      "Iteration: 9000, Loss: 0.09700924903154373, Accuracy: 97.87797546386719\n",
      "Iteration: 9500, Loss: 0.03996511548757553, Accuracy: 98.08333587646484\n"
     ]
    }
   ],
   "source": [
    "#Model Training\n",
    "count = 0\n",
    "loss_list = []\n",
    "iteration_list = []\n",
    "accuracy_list = []\n",
    "\n",
    "for iteration in range(num_epochs):\n",
    "    for i, (images, labels) in enumerate(train_loader): \n",
    "        \n",
    "        train = Variable(images.view(-1, 28*28))\n",
    "        labels = Variable(labels)\n",
    "        optimizer.zero_grad()\n",
    "        outputs = model(train)\n",
    "        loss = error(outputs, labels)\n",
    "        loss.backward()\n",
    "        optimizer.step()\n",
    "        count += 1\n",
    "        \n",
    "        if count % 50 == 0: \n",
    "            \n",
    "            correct = 0\n",
    "            total = 0\n",
    "            \n",
    "            for images, labels in test_loader: \n",
    "                \n",
    "                test = Variable(images.view(-1, 28*28))\n",
    "                outputs = model(test)\n",
    "                predicted = torch.max(outputs.data, 1)[1]\n",
    "                total += len(labels)\n",
    "                correct += (predicted == labels).sum()\n",
    "                \n",
    "                \n",
    "            accuracy = 100 * correct / float(total)\n",
    "            loss_list.append(loss.data)\n",
    "            iteration_list.append(count)\n",
    "            accuracy_list.append(accuracy)\n",
    "        \n",
    "        if count % 500 == 0: \n",
    "            print(\"Iteration: {}, Loss: {}, Accuracy: {}\".format(count, loss.data, accuracy))"
   ]
  },
  {
   "cell_type": "markdown",
   "id": "cbd73f6e",
   "metadata": {},
   "source": [
    "<a id = \"5\"></a>\n",
    "## Visualization"
   ]
  },
  {
   "cell_type": "code",
   "execution_count": 24,
   "id": "328ffb2d",
   "metadata": {},
   "outputs": [
    {
     "data": {
      "image/png": "[encoded data removed]",
      "text/plain": [
       "<Figure size 432x288 with 1 Axes>"
      ]
     },
     "metadata": {
      "needs_background": "light"
     },
     "output_type": "display_data"
    },
    {
     "data": {
      "image/png": "[encoded data removed]",
      "text/plain": [
       "<Figure size 432x288 with 1 Axes>"
      ]
     },
     "metadata": {
      "needs_background": "light"
     },
     "output_type": "display_data"
    }
   ],
   "source": [
    "#Visualizing Loss\n",
    "plt.plot(iteration_list, loss_list, color = \"b\")\n",
    "plt.title(\"Loss vs Number of Iterations\")\n",
    "plt.xlabel(\"Number of Iterations\")\n",
    "plt.ylabel(\"Loss\")\n",
    "plt.show()\n",
    "\n",
    "#Visualizing Accuracy\n",
    "plt.plot(iteration_list, accuracy_list, color = \"orange\")\n",
    "plt.title(\"Accuracy vs Number of Iterations\")\n",
    "plt.xlabel(\"Number of Iterations\")\n",
    "plt.ylabel(\"Accuracy\")\n",
    "plt.show()"
   ]
  }
 ],
 "metadata": {
  "kernelspec": {
   "display_name": "Python 3 (ipykernel)",
   "language": "python",
   "name": "python3"
  },
  "language_info": {
   "codemirror_mode": {
    "name": "ipython",
    "version": 3
   },
   "file_extension": ".py",
   "mimetype": "text/x-python",
   "name": "python",
   "nbconvert_exporter": "python",
   "pygments_lexer": "ipython3",
   "version": "3.9.12"
  }
 },
 "nbformat": 4,
 "nbformat_minor": 5
}
