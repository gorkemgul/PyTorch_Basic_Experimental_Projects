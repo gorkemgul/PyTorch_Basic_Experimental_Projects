{
 "cells": [
  {
   "cell_type": "markdown",
   "id": "be4caec4",
   "metadata": {},
   "source": [
    "# Logistic Regression with Pytorch\n",
    "\n",
    "1. [Libraries](#1)\n",
    "2. [Data Preparation](#2)\n",
    "3. [Creating Model](#3)\n",
    "4. [Model Training](#4)\n",
    "5. [Visualization](#5)"
   ]
  },
  {
   "cell_type": "markdown",
   "id": "d0f177c6",
   "metadata": {},
   "source": [
    "<a id = \"1\"></a>\n",
    "## Libraries"
   ]
  },
  {
   "cell_type": "code",
   "execution_count": 1,
   "id": "a61e2f1c",
   "metadata": {},
   "outputs": [],
   "source": [
    "#Libraries\n",
    "import torch\n",
    "import torch.nn as nn\n",
    "from torch.autograd import Variable\n",
    "from torch.utils.data import DataLoader\n",
    "import pandas as pd\n",
    "import numpy as np \n",
    "import matplotlib.pyplot as plt\n",
    "from sklearn.model_selection import train_test_split"
   ]
  },
  {
   "cell_type": "markdown",
   "id": "9190ad54",
   "metadata": {},
   "source": [
    "<a id = \"2\"></a>\n",
    "## Data Preparation"
   ]
  },
  {
   "cell_type": "code",
   "execution_count": 2,
   "id": "8e9fa26e",
   "metadata": {},
   "outputs": [
    {
     "data": {
      "image/png": "[encoded data removed]",
      "text/plain": [
       "<Figure size 432x288 with 1 Axes>"
      ]
     },
     "metadata": {
      "needs_background": "light"
     },
     "output_type": "display_data"
    }
   ],
   "source": [
    "#Loading the Data\n",
    "train = pd.read_csv(\"train.csv\", dtype = np.float32)\n",
    "targets_numpy = train.label.values\n",
    "features_numpy = train.drop(columns = \"label\", axis = 1).values / 255.0\n",
    "\n",
    "#train test split. train %80, test %20\n",
    "features_train, features_test, targets_train, targets_test = train_test_split(features_numpy, targets_numpy, \n",
    "                                                                              test_size = 0.2, random_state = 42)\n",
    "\n",
    "#array2Tensor \n",
    "featuresTrain = torch.from_numpy(features_train)\n",
    "targetsTrain = torch.from_numpy(targets_train).type(torch.LongTensor)\n",
    "featuresTest = torch.from_numpy(features_test)\n",
    "targetsTest = torch.from_numpy(targets_test).type(torch.LongTensor)\n",
    "\n",
    "#batch size, epoch and iteration\n",
    "batch_size = 100\n",
    "n_iters = 10000\n",
    "num_epochs = n_iters / (len(features_train)/batch_size)\n",
    "num_epochs = int(num_epochs)\n",
    "\n",
    "#pytorch train and test sets\n",
    "train = torch.utils.data.TensorDataset(featuresTrain, targetsTrain)\n",
    "test = torch.utils.data.TensorDataset(featuresTest, targetsTest)\n",
    "\n",
    "#data loader\n",
    "train_loader = DataLoader(train, batch_size = batch_size, shuffle = False)\n",
    "test_loader = DataLoader(test, batch_size = batch_size, shuffle = False)\n",
    "\n",
    "#visualization of an example image of the dataset\n",
    "plt.imshow(features_numpy[9].reshape(28,28))\n",
    "plt.axis(\"off\")\n",
    "plt.title(str(targets_numpy[9]))\n",
    "plt.savefig(\"graph.png\")\n",
    "plt.show()"
   ]
  },
  {
   "cell_type": "markdown",
   "id": "ed16c485",
   "metadata": {},
   "source": [
    "<a id = \"3\"></a>\n",
    "## Creating Model"
   ]
  },
  {
   "cell_type": "code",
   "execution_count": 3,
   "id": "f9e78de2",
   "metadata": {},
   "outputs": [],
   "source": [
    "#Creating Logistic Regression Model\n",
    "\n",
    "class LogisticRegModel(nn.Module):\n",
    "    def __init__(self, input_dim, output_dim): \n",
    "        super(LogisticRegModel, self).__init__()\n",
    "        \n",
    "        \"\"\"\n",
    "        at first it looks like the logistic func is missing but, \n",
    "        it(softmax) will be in loss function automatically, no need to worry tho\n",
    "        \n",
    "        \"\"\"\n",
    "        self.linear = nn.Linear(input_dim, output_dim)\n",
    "        \n",
    "    def forward(self, x):\n",
    "        out = self.linear(x)\n",
    "        return out \n",
    "    \n",
    "input_dim = 28 * 28 # size of image\n",
    "output_dim = 10 # labels\n",
    "\n",
    "#model \n",
    "model = LogisticRegModel(input_dim, output_dim)\n",
    "\n",
    "#loss\n",
    "error = nn.CrossEntropyLoss()\n",
    "\n",
    "#SGD optimizer \n",
    "learning_rate = 0.001\n",
    "optimizer = torch.optim.SGD(model.parameters(), lr = learning_rate)"
   ]
  },
  {
   "cell_type": "markdown",
   "id": "a109efea",
   "metadata": {},
   "source": [
    "## Model Training "
   ]
  },
  {
   "cell_type": "code",
   "execution_count": 4,
   "id": "b794d7aa",
   "metadata": {},
   "outputs": [
    {
     "name": "stdout",
     "output_type": "stream",
     "text": [
      "Iteration: 500  Loss: 1.8444879055023193  Accuracy: 65.46428680419922%\n",
      "Iteration: 1000  Loss: 1.604956865310669  Accuracy: 75.5%\n",
      "Iteration: 1500  Loss: 1.2964283227920532  Accuracy: 78.25%\n",
      "Iteration: 2000  Loss: 1.2262436151504517  Accuracy: 79.83333587646484%\n",
      "Iteration: 2500  Loss: 1.049328088760376  Accuracy: 80.85713958740234%\n",
      "Iteration: 3000  Loss: 0.9412071108818054  Accuracy: 81.85713958740234%\n",
      "Iteration: 3500  Loss: 0.8952232599258423  Accuracy: 82.51190185546875%\n",
      "Iteration: 4000  Loss: 0.7525752186775208  Accuracy: 83.13095092773438%\n",
      "Iteration: 4500  Loss: 0.9682031273841858  Accuracy: 83.58333587646484%\n",
      "Iteration: 5000  Loss: 0.8062552809715271  Accuracy: 84.03571319580078%\n",
      "Iteration: 5500  Loss: 0.7478664517402649  Accuracy: 84.32142639160156%\n",
      "Iteration: 6000  Loss: 0.8681288957595825  Accuracy: 84.60713958740234%\n",
      "Iteration: 6500  Loss: 0.670408308506012  Accuracy: 84.83333587646484%\n",
      "Iteration: 7000  Loss: 0.7133432030677795  Accuracy: 85.07142639160156%\n",
      "Iteration: 7500  Loss: 0.6380273103713989  Accuracy: 85.30952453613281%\n",
      "Iteration: 8000  Loss: 0.7480403184890747  Accuracy: 85.47618865966797%\n",
      "Iteration: 8500  Loss: 0.5492772459983826  Accuracy: 85.55952453613281%\n",
      "Iteration: 9000  Loss: 0.6617485284805298  Accuracy: 85.70237731933594%\n",
      "Iteration: 9500  Loss: 0.5299481749534607  Accuracy: 85.76190185546875%\n"
     ]
    }
   ],
   "source": [
    "count = 0\n",
    "loss_list = []\n",
    "iteration_list = []\n",
    "\n",
    "for epoch in range(num_epochs):\n",
    "    for i, (images, labels) in enumerate(train_loader):\n",
    "        \n",
    "        #defining variables \n",
    "        train = Variable(images.view(-1, 28*28))\n",
    "        test = Variable(labels)\n",
    "        \n",
    "        #clear gradientsabs\n",
    "        optimizer.zero_grad()\n",
    "        \n",
    "        #forward propagation \n",
    "        outputs = model(train)\n",
    "        \n",
    "        #calculating softmax and cross entropy loss\n",
    "        loss = error(outputs, labels)\n",
    "        \n",
    "        #calculate gradients\n",
    "        loss.backward()\n",
    "        \n",
    "        #update parameters\n",
    "        optimizer.step()\n",
    "        \n",
    "        count +=1\n",
    "        \n",
    "        #prediction\n",
    "        if count %50 == 0:\n",
    "            correct = 0\n",
    "            total = 0\n",
    "            for images, labels in test_loader:\n",
    "                test = Variable(images.view(-1, 28*28))\n",
    "                \n",
    "                #forward propagation\n",
    "                outputs = model(test)\n",
    "                \n",
    "                #Get predictions from the maximum value\n",
    "                predicted = torch.max(outputs.data, 1)[1]\n",
    "                \n",
    "                #total number of labels \n",
    "                total += len(labels)\n",
    "                \n",
    "                #total correct predictions \n",
    "                correct += (predicted == labels).sum()\n",
    "                \n",
    "            #accuracy\n",
    "            accuracy = 100 * correct / float(total)\n",
    "                \n",
    "            #storing losses and iterations \n",
    "            loss_list.append(loss.data)\n",
    "            iteration_list.append(count)\n",
    "        if count % 500 == 0:\n",
    "            print('Iteration: {}  Loss: {}  Accuracy: {}%'.format(count, loss.data, accuracy))"
   ]
  },
  {
   "cell_type": "markdown",
   "id": "03765c65",
   "metadata": {},
   "source": [
    "<a id = \"5\"></a>\n",
    "## Visualization \n"
   ]
  },
  {
   "cell_type": "code",
   "execution_count": 5,
   "id": "1fb5bcad",
   "metadata": {},
   "outputs": [
    {
     "data": {
      "image/png": "[encoded data removed]",
      "text/plain": [
       "<Figure size 432x288 with 1 Axes>"
      ]
     },
     "metadata": {
      "needs_background": "light"
     },
     "output_type": "display_data"
    }
   ],
   "source": [
    "#Visualization\n",
    "plt.plot(iteration_list, loss_list, color = \"orange\")\n",
    "plt.title(\"Loss vs Number of Iteration\")\n",
    "plt.xlabel(\"Number of Iteration\")\n",
    "plt.ylabel(\"Loss\")\n",
    "plt.show()"
   ]
  }
 ],
 "metadata": {
  "kernelspec": {
   "display_name": "Python 3 (ipykernel)",
   "language": "python",
   "name": "python3"
  },
  "language_info": {
   "codemirror_mode": {
    "name": "ipython",
    "version": 3
   },
   "file_extension": ".py",
   "mimetype": "text/x-python",
   "name": "python",
   "nbconvert_exporter": "python",
   "pygments_lexer": "ipython3",
   "version": "3.9.12"
  }
 },
 "nbformat": 4,
 "nbformat_minor": 5
}
